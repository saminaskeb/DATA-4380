{
  "nbformat": 4,
  "nbformat_minor": 0,
  "metadata": {
    "colab": {
      "provenance": []
    },
    "kernelspec": {
      "name": "python3",
      "display_name": "Python 3"
    },
    "language_info": {
      "name": "python"
    }
  },
  "cells": [
    {
      "cell_type": "markdown",
      "source": [
        "##Exercise 1"
      ],
      "metadata": {
        "id": "wFTvK6HyruVl"
      }
    },
    {
      "cell_type": "markdown",
      "source": [
        "saminasb@Saminass-Air DATA-4380 % mkdir -p ~/kaggle_datasets/all_datasets\n",
        "\n",
        "saminasb@Saminass-Air DATA-4380 % mv ~/Downloads/*.csv ~/kaggle_datasets/all_datasets/\n",
        "\n",
        "saminasb@Saminass-Air DATA-4380 % ls ~/kaggle_datasets/all_datasets/"
      ],
      "metadata": {
        "id": "b3FVG6NYsLRG"
      }
    },
    {
      "cell_type": "markdown",
      "source": [
        "##Exercise 2"
      ],
      "metadata": {
        "id": "orDiucphr5Ey"
      }
    },
    {
      "cell_type": "markdown",
      "source": [
        "saminasb@Saminass-Air DATA-4380 % cd ~/kaggle_datasets/all_datasets\n",
        "\n",
        "saminasb@Saminass-Air all_datasets % tail -n +2 diabetes_prediction_dataset.csv | wc -l\n",
        "```\n",
        "10000\n",
        "```\n",
        "saminasb@Saminass-Air all_datasets % head -n 1 diabetes_prediction_dataset.csv > diabetes_part1.csv\n",
        "\n",
        "saminasb@Saminass-Air all_datasets % head -n 1 diabetes_prediction_dataset.csv > diabetes_part2.csv\n",
        "\n",
        "saminasb@Saminass-Air all_datasets % head -n 1 diabetes_prediction_dataset.csv > diabetes_part3.csv\n",
        "\n",
        "saminasb@Saminass-Air all_datasets % tail -n +2 diabetes_prediction_dataset.csv | head -n 33333 >> diabetes_part1.csv\n",
        "\n",
        "saminasb@Saminass-Air all_datasets % tail -n +33335 diabetes_prediction_dataset.csv | head -n 33333 >> diabetes_part2.csv\n",
        "\n",
        "saminasb@Saminass-Air all_datasets % tail -n +66668 diabetes_prediction_dataset.csv >> diabetes_part3.csv\n",
        "\n",
        "saminasb@Saminass-Air all_datasets % wc -l diabetes_part*.csv\n",
        " ```  \n",
        "33334 diabetes_part1.csv\n",
        "```\n",
        "```\n",
        "33334 diabetes_part2.csv\n",
        "```\n",
        "```\n",
        "33335 diabetes_part3.csv\n",
        "```\n",
        "```\n",
        "    100003 total\n",
        "```\n",
        "\n",
        "\n",
        "\n",
        "\n",
        "\n",
        "\n",
        "\n",
        "  \n",
        "   \n",
        "  \n",
        "\n",
        "\n",
        "\n",
        "\n",
        "\n",
        "\n",
        "\n"
      ],
      "metadata": {
        "id": "Kej_-0lZsz0V"
      }
    },
    {
      "cell_type": "markdown",
      "source": [
        "##Exercise 3"
      ],
      "metadata": {
        "id": "NUfJXao0r8lK"
      }
    },
    {
      "cell_type": "markdown",
      "source": [
        "saminasb@Saminass-Air all_datasets % head -n 1 Heart_Disease_Prediction.csv > heart_absence.csv\n",
        "\n",
        "saminasb@Saminass-Air all_datasets % head -n 1 Heart_Disease_Prediction.csv > heart_presence.csv\n",
        "\n",
        "saminasb@Saminass-Air all_datasets % grep 'Absence' Heart_Disease_Prediction.csv >> heart_absence.csv\n",
        "\n",
        "saminasb@Saminass-Air all_datasets % grep 'Presence' Heart_Disease_Prediction.csv >> heart_presence.csv\n",
        "\n",
        "  "
      ],
      "metadata": {
        "id": "ebIgtwIxx5iB"
      }
    },
    {
      "cell_type": "markdown",
      "source": [
        "##Exercise 4"
      ],
      "metadata": {
        "id": "AJT6nwPBr_Y0"
      }
    },
    {
      "cell_type": "markdown",
      "source": [
        "saminasb@Saminass-Air all_datasets % tail -n +2 car_web_scraped_dataset.csv | wc -l\n",
        "```  \n",
        "2840\n",
        "```\n",
        "saminasb@Saminass-Air all_datasets % grep -i 'no accidents' car_web_scraped_dataset.csv | wc -l\n",
        "```\n",
        "2223\n",
        "```"
      ],
      "metadata": {
        "id": "2EMGG8-90lHH"
      }
    },
    {
      "cell_type": "markdown",
      "source": [
        "##Exercise 5"
      ],
      "metadata": {
        "id": "mJCLkKPksBGD"
      }
    },
    {
      "cell_type": "markdown",
      "source": [
        "saminasb@Saminass-Air all_datasets % sed -e 's/,yes/,1/g' \\\n",
        "    -e 's/,no/,0/g' \\\n",
        "    -e 's/,semi-furnished/,2/g' \\\n",
        "    -e 's/,unfurnished/,0/g' \\\n",
        "    -e 's/,furnished/,1/g' \\\n",
        "    Housing.csv > Housing_modified.csv"
      ],
      "metadata": {
        "id": "U6ZD0A0x0yvK"
      }
    },
    {
      "cell_type": "markdown",
      "source": [
        "##Exercise 6"
      ],
      "metadata": {
        "id": "CPchB3nbsDvk"
      }
    },
    {
      "cell_type": "markdown",
      "source": [
        "saminasb@Saminass-Air all_datasets % cut -d ',' -f2- Mall_Customers.csv > Mall_Customers_no_id.csv\n",
        "\n",
        "saminasb@Saminass-Air all_datasets % head Mall_Customers_no_id.csv\n",
        "```  \n",
        "Gender,Age,Annual Income (k$),Spending Score (1-100)\n",
        "Male,19,15,39\n",
        "Male,21,15,81\n",
        "Female,20,16,6\n",
        "Female,23,16,77\n",
        "Female,31,17,40\n",
        "Female,22,17,76\n",
        "Female,35,18,6\n",
        "Female,23,18,94\n",
        "Male,64,19,3\n",
        "```  "
      ],
      "metadata": {
        "id": "Cn18lcUP9HMK"
      }
    },
    {
      "cell_type": "markdown",
      "source": [
        "##Exercise 7"
      ],
      "metadata": {
        "id": "OWLzefm3sGYi"
      }
    },
    {
      "cell_type": "markdown",
      "source": [
        "saminasb@Saminass-Air all_datasets % echo \"TotalScore\" > university_scores_sum_shell.csv\n",
        "\n",
        "saminasb@Saminass-Air all_datasets % tail -n +2 \"world all university rank and rank score.csv\" \\\n",
        "  | cut -d ',' -f5-8 \\\n",
        "  | grep -E '^[0-9.]+,[0-9.]+,[0-9.]+,[0-9.]+$' \\\n",
        "  | tr ',' '+' \\\n",
        "  | bc >> university_scores_sum_shell.csv\n",
        "  \n",
        "saminasb@Saminass-Air all_datasets % head university_scores_sum_shell.csv\n",
        "```  \n",
        "TotalScore\n",
        "378.2\n",
        "367.2\n",
        "340.5\n",
        "361.2\n",
        "353.3\n",
        "363.0\n",
        "335.9\n",
        "354.9\n",
        "329.1\n",
        "```  \n"
      ],
      "metadata": {
        "id": "Kf6aovvLCGVh"
      }
    },
    {
      "cell_type": "markdown",
      "source": [
        "##Exercise 8"
      ],
      "metadata": {
        "id": "0cGo7S_HsJEM"
      }
    },
    {
      "cell_type": "markdown",
      "source": [
        "saminasb@Saminass-Air all_datasets % head -n 1 \"cancer patient data sets.csv\"\n",
        "```  \n",
        "index,Patient Id,Age,Gender,Air Pollution,Alcohol use,Dust Allergy,OccuPational Hazards,Genetic Risk,chronic Lung Disease,Balanced Diet,Obesity,Smoking,Passive Smoker,Chest Pain,Coughing of Blood,Fatigue,Weight Loss,Shortness of Breath,Wheezing,Swallowing Difficulty,Clubbing of Finger Nails,Frequent Cold,Dry Cough,Snoring,Level\n",
        "```  \n",
        "saminasb@Saminass-Air all_datasets % (head -n 1 \"cancer patient data sets.csv\" && tail -n +2 \"cancer patient data sets.csv\" | sort -t ',' -k3 -n) > cancer_sorted_by_age.csv\n",
        "\n",
        "saminasb@Saminass-Air all_datasets % head cancer_sorted_by_age.csv\n",
        "```  \n",
        "index,Patient Id,Age,Gender,Air Pollution,Alcohol use,Dust Allergy,OccuPational Hazards,Genetic Risk,chronic Lung Disease,Balanced Diet,Obesity,Smoking,Passive Smoker,Chest Pain,Coughing of Blood,Fatigue,Weight Loss,Shortness of Breath,Wheezing,Swallowing Difficulty,Clubbing of Finger Nails,Frequent Cold,Dry Cough,Snoring,Level\n",
        "130,P215,14,1,2,4,5,6,5,5,4,6,5,4,6,5,5,3,2,1,4,7,2,1,6,Medium\n",
        "19,P115,14,1,2,4,5,6,5,5,4,6,5,4,6,5,5,3,2,1,4,7,2,1,6,Medium\n",
        "241,P315,14,1,2,4,5,6,5,5,4,6,5,4,6,5,5,3,2,1,4,7,2,1,6,Medium\n",
        "35,P13,14,1,2,4,5,6,5,5,4,6,5,4,6,5,5,3,2,1,4,7,2,1,6,Medium\n",
        "352,P415,14,1,2,4,5,6,5,5,4,6,5,4,6,5,5,3,2,1,4,7,2,1,6,Medium\n",
        "574,P615,14,1,2,4,5,6,5,5,4,6,5,4,6,5,5,3,2,1,4,7,2,1,6,Medium\n",
        "685,P715,14,1,2,4,5,6,5,5,4,6,5,4,6,5,5,3,2,1,4,7,2,1,6,Medium\n",
        "796,P815,14,1,2,4,5,6,5,5,4,6,5,4,6,5,5,3,2,1,4,7,2,1,6,Medium\n",
        "907,P915,14,1,2,4,5,6,5,5,4,6,5,4,6,5,5,3,2,1,4,7,2,1,6,Medium\n",
        "```  \n",
        "\n"
      ],
      "metadata": {
        "id": "J0O0fINoDvNi"
      }
    },
    {
      "cell_type": "code",
      "source": [],
      "metadata": {
        "id": "OIq2aSO3Dv4T"
      },
      "execution_count": null,
      "outputs": []
    }
  ]
}